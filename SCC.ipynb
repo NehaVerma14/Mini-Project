{
 "cells": [
  {
   "cell_type": "code",
   "execution_count": 3,
   "metadata": {},
   "outputs": [],
   "source": [
    "#-----------------import statements--------------------------------------------------------------------\n",
    "import numpy as np\n",
    "from collections import defaultdict \n",
    "import sys\n",
    "from time import time\n",
    "import pandas as pd\n",
    "import networkx as nx #for display uniquely\n",
    "import matplotlib.pyplot as plt"
   ]
  },
  {
   "cell_type": "markdown",
   "metadata": {},
   "source": [
    "#                    Part I: GRAPH CLASS AND COMPUTING SCC'S"
   ]
  },
  {
   "cell_type": "markdown",
   "metadata": {},
   "source": [
    "###                                                 GRAPH CLASS"
   ]
  },
  {
   "cell_type": "code",
   "execution_count": 4,
   "metadata": {},
   "outputs": [
    {
     "name": "stdout",
     "output_type": "stream",
     "text": [
      "Graph class compiled!\n"
     ]
    }
   ],
   "source": [
    "class Graph:#graph represented byadjacency list \n",
    "\n",
    "    def __init__(self,vertices): \n",
    "        self.V= vertices #No. of vertices\n",
    "        self.E=0;\n",
    "        self.graph = defaultdict(list) # default dictionary to store graph\n",
    "        self.c=0#cluster counter  \n",
    "        self.label=[0 for i in range(vertices)]\n",
    "        self.Time = 0#for tarjan\n",
    "        self.networkx_G=nx.DiGraph()#for display uniquely\n",
    "        \n",
    "\n",
    "    def addEdge(self,i,j): \n",
    "        self.graph[i].append(j)\n",
    "        self.E+=1;\n",
    "#---------------------------SCC Algo #1: Korasaju----------------------------------------------------------------------\n",
    "    def aux_dfs_korasaju(self,v,visited,c): \n",
    "        print(v, end=' ')\n",
    "        visited[v]= True #check off current vertex as visited and define its label, then move on to unvisited neighbors\n",
    "        self.label[v]=c\n",
    "      \n",
    "        for i in self.graph[v]: \n",
    "            if visited[i]==False: \n",
    "                self.aux_dfs_korasaju(i,visited,c) \n",
    "\n",
    "    def DFS_korasaju(self,v,visited, stack): #korasaju depth first search\n",
    "        #check off current vertex as visited\n",
    "        \n",
    "        visited[v]= True\n",
    "        #Recur for all the vertices adjacent to this vertex \n",
    "        for i in self.graph[v]: \n",
    "            if visited[i]==False: \n",
    "                self.DFS_korasaju(i, visited, stack) \n",
    "        stack = stack.append(v) \n",
    "\n",
    "\n",
    "    # calculate transpose of g, needed for korasaju\n",
    "    def get_transpose(self): \n",
    "        g = Graph(self.V) \n",
    "\n",
    "        # Recur for all the vertices adjacent to this vertex \n",
    "        for i in self.graph: \n",
    "            for j in self.graph[i]: \n",
    "                g.addEdge(j,i) \n",
    "        return g \n",
    "\n",
    "    def findSCCs_korasaju(self): #korasaju main function\n",
    "        self.c=0;\n",
    "        self.label=[0 for i in range(self.V)]\n",
    "      \n",
    "        stack = [] \n",
    "        \n",
    "        # First round of DFS\n",
    "        visited =[False]*(self.V) #initialize nodes to unvisited \n",
    "        # Go through stack in order of finishing time\n",
    "        for i in range(self.V): \n",
    "            if visited[i]==False: \n",
    "                self.DFS_korasaju(i, visited, stack) \n",
    "        \n",
    "        # Second round of DFS (reverse direction)\n",
    "        g_reversed = self.get_transpose() \n",
    "        visited =[False]*(self.V) # reinitialize nodes to unvisited \n",
    "\n",
    "        # iterate through nodes according to stack order\n",
    "        while stack: \n",
    "            i = stack.pop() \n",
    "            if visited[i]==False:\n",
    "                g_reversed.aux_dfs_korasaju(i, visited,self.c)\n",
    "                print(\" \")\n",
    "                self.c+=1\n",
    "            \n",
    "        self.label=g_reversed.label\n",
    "\n",
    "#--------------------------------------DISPLAY---------------------------------------------------------\n",
    "\n",
    "    def display(self,*args):\n",
    "        #args=(pos,Node_size,xlabel,ylabel,title,edge_width,_arrows)\n",
    "        #we use networkx module to display graphs, unfortunately this requires reconstructing the graph...\n",
    "\n",
    "        #make networkx graph\n",
    "        self.networkx_G.add_nodes_from(range(self.V))\n",
    "        for i in range(self.V):\n",
    "            for j in self.graph[i]:\n",
    "                self.networkx_G.add_edge(i,j)\n",
    "\n",
    "        #define display properties if they were inputted, default otherwise\n",
    "        if len (args)>=2: pos=args[1]\n",
    "        else: \n",
    "            pos = nx.spring_layout(self.networkx_G)\n",
    "        if len(args)>=3: Node_size=args[2]\n",
    "        else: Node_size=300 # default  \n",
    "        if len(args)>=7: edge_width=args[6]\n",
    "        else: edge_width=1 #default\n",
    "        if len(args)>=8: _arrows=args[7]\n",
    "        else:_arrows=True\n",
    "\n",
    "\n",
    "        plt.figure()\n",
    " \n",
    "\n",
    "        if len(args)>=4: plt.xlabel(args[3])\n",
    "        if len(args)>=5: plt.ylabel(args[4])\n",
    "        if len(args)>=6: plt.title(args[5])\n",
    "\n",
    "        #draw graph\n",
    "        nx.draw_networkx_nodes(self.networkx_G, pos,node_size=Node_size, cmap=plt.get_cmap('rainbow'), \n",
    "                       node_color = self.label)\n",
    "        \n",
    "        if (len(args)==0 or args[0]==True): nx.draw_networkx_labels(self.networkx_G, pos)\n",
    "        nx.draw_networkx_edges(self.networkx_G,pos,arrows=_arrows,width=edge_width)\n",
    "        \n",
    "    \n",
    "        plt.show()    \n",
    "\n",
    "print(\"Graph class compiled!\")\n",
    "\n"
   ]
  },
  {
   "cell_type": "markdown",
   "metadata": {},
   "source": [
    "###                                                 COMPUTING SCC'S ON SMALL EXAMPLES"
   ]
  },
  {
   "cell_type": "code",
   "execution_count": 5,
   "metadata": {
    "scrolled": true
   },
   "outputs": [
    {
     "name": "stdout",
     "output_type": "stream",
     "text": [
      "G=(V,E), V=5, E=5\n"
     ]
    },
    {
     "data": {
      "image/png": "[encoded data removed]",
      "text/plain": [
       "<Figure size 432x288 with 1 Axes>"
      ]
     },
     "metadata": {},
     "output_type": "display_data"
    },
    {
     "name": "stdout",
     "output_type": "stream",
     "text": [
      "defaultdict(<class 'list'>, {1: [0], 0: [2, 3], 2: [1], 3: [4], 4: []})\n",
      "Computing SCC's...\n",
      "0 1 2  \n",
      "3  \n",
      "4  \n"
     ]
    },
    {
     "data": {
      "image/png": "[encoded data removed]",
      "text/plain": [
       "<Figure size 432x288 with 1 Axes>"
      ]
     },
     "metadata": {},
     "output_type": "display_data"
    },
    {
     "name": "stdout",
     "output_type": "stream",
     "text": [
      "\n",
      "# SCC (korasaju): 3\n",
      "SCC labels (korasaju): [0, 0, 0, 1, 2]\n",
      "\n",
      "-----------------------------------------------------------\n",
      "G=(V,E), V=11, E=17\n"
     ]
    },
    {
     "data": {
      "image/png": "[encoded data removed]",
      "text/plain": [
       "<Figure size 432x288 with 1 Axes>"
      ]
     },
     "metadata": {},
     "output_type": "display_data"
    },
    {
     "name": "stdout",
     "output_type": "stream",
     "text": [
      "Computing SCC's...\n",
      "10  \n",
      "0 2 1 3  \n",
      "6 4 5  \n",
      "7  \n",
      "9 8  \n"
     ]
    },
    {
     "data": {
      "image/png": "[encoded data removed]",
      "text/plain": [
       "<Figure size 432x288 with 1 Axes>"
      ]
     },
     "metadata": {},
     "output_type": "display_data"
    },
    {
     "name": "stdout",
     "output_type": "stream",
     "text": [
      "\n",
      "# SCC (korasaju): 5\n",
      "SCC labels (korasaju): [1, 1, 1, 1, 2, 2, 2, 3, 4, 4, 0]\n"
     ]
    }
   ],
   "source": [
    "#-----------------------------Testing SCC algorithms and visualization on small examples-------------------------------------------------------\n",
    "# Create a graph given in the above diagram \n",
    "g1 = Graph(5) \n",
    "g1.addEdge(1, 0) \n",
    "g1.addEdge(0, 2) \n",
    "g1.addEdge(2, 1) \n",
    "g1.addEdge(0, 3) \n",
    "g1.addEdge(3, 4) \n",
    "\n",
    "\n",
    "print (\"G=(V,E), V=\" + str(g1.V)+ \", E=\" +str(g1.E))\n",
    "g1.display()\n",
    "print(g1.graph)\n",
    "print(\"Computing SCC's...\")\n",
    "\n",
    "g1.findSCCs_korasaju() \n",
    "g1.display()\n",
    "\n",
    "print (\"\\n# SCC (korasaju): \"+str(g1.c))\n",
    "print (\"SCC labels (korasaju): \"+str(g1.label))\n",
    "\n",
    "\n",
    "\n",
    "#------------------------------------------------------------------------------------------\n",
    "g2=Graph (11) \n",
    "\n",
    "g2.addEdge(0,1);g2.addEdge(0,3); \n",
    "g2.addEdge(1,2);g2.addEdge(1,4); \n",
    "g2.addEdge(2,0);g2.addEdge(2,6); \n",
    "g2.addEdge(3,2); \n",
    "g2.addEdge(4,5);g2.addEdge(4,6); \n",
    "g2.addEdge(5,6);g2.addEdge(5,7);g2.addEdge(5,8);g2.addEdge(5,9); \n",
    "g2.addEdge(6,4); \n",
    "g2.addEdge(7,9); \n",
    "g2.addEdge(8,9); \n",
    "g2.addEdge(9,8); \n",
    "\n",
    "print (\"\\n-----------------------------------------------------------\")\n",
    "print (\"G=(V,E), V=\" + str(g2.V)+ \", E=\" +str(g2.E))\n",
    "\n",
    "g2.display()\n",
    "\n",
    "\n",
    "print(\"Computing SCC's...\")\n",
    "\n",
    "g2.findSCCs_korasaju() \n",
    "g2.display()\n",
    "\n",
    "print (\"\\n# SCC (korasaju): \"+str(g2.c))\n",
    "print (\"SCC labels (korasaju): \"+str(g2.label))\n",
    "\n",
    "\n",
    "\n",
    "\n"
   ]
  },
  {
   "cell_type": "markdown",
   "metadata": {},
   "source": [
    "###                                                            FINDING SCC'S ON REAL DATA"
   ]
  },
  {
   "cell_type": "code",
   "execution_count": 7,
   "metadata": {},
   "outputs": [
    {
     "ename": "Error",
     "evalue": "Canceled future for execute_request message before replies were done",
     "output_type": "error",
     "traceback": [
      "Error: Canceled future for execute_request message before replies were done",
      "at t.KernelShellFutureHandler.dispose (c:\\Users\\Hp\\.vscode\\extensions\\ms-toolsai.jupyter-2022.3.1000901801\\out\\extension.js:2:1204175)",
      "at c:\\Users\\Hp\\.vscode\\extensions\\ms-toolsai.jupyter-2022.3.1000901801\\out\\extension.js:2:1223227",
      "at Map.forEach (<anonymous>)",
      "at v._clearKernelState (c:\\Users\\Hp\\.vscode\\extensions\\ms-toolsai.jupyter-2022.3.1000901801\\out\\extension.js:2:1223212)",
      "at v.dispose (c:\\Users\\Hp\\.vscode\\extensions\\ms-toolsai.jupyter-2022.3.1000901801\\out\\extension.js:2:1216694)",
      "at c:\\Users\\Hp\\.vscode\\extensions\\ms-toolsai.jupyter-2022.3.1000901801\\out\\extension.js:2:533674",
      "at t.swallowExceptions (c:\\Users\\Hp\\.vscode\\extensions\\ms-toolsai.jupyter-2022.3.1000901801\\out\\extension.js:2:913059)",
      "at dispose (c:\\Users\\Hp\\.vscode\\extensions\\ms-toolsai.jupyter-2022.3.1000901801\\out\\extension.js:2:533652)",
      "at t.RawSession.dispose (c:\\Users\\Hp\\.vscode\\extensions\\ms-toolsai.jupyter-2022.3.1000901801\\out\\extension.js:2:537330)",
      "at runMicrotasks (<anonymous>)",
      "at processTicksAndRejections (node:internal/process/task_queues:96:5)"
     ]
    }
   ],
   "source": [
    "#-------------------------------------------FINDING SCC's on real data-------------------------------------------------------\n",
    "#********!!!!!!!!!!!!!!NOTE: ANY WHITESPACE AFTER LAST LINE OF TEXTFILE MUST BE REMOVED!!!!!!!!!!!!!!!!!!******************\n",
    "\n",
    "sys.setrecursionlimit(10**6) #Necessary to not exceed max recursion depth on big datasets!\n",
    "\n",
    "file_name = 'Wiki-Vote'\n",
    "file_type='.txt'\n",
    "skip=4#number of lines to skip when reading text file\n",
    "nodes = 262111\n",
    "\n",
    "#----------------------------------------LOAD DATA AND BUILD GRAPH---------------------------------------------------\n",
    "#Sometimes nodes indices are not consective starting at 0 so we should use a dictionary to map them to proper format\n",
    "node_ind = dict() \n",
    "ind=0\n",
    "\n",
    "g2 = Graph(nodes) \n",
    "\n",
    "#read file \n",
    "f=open(file_name+file_type,'r') \n",
    "lines = f.readlines()[skip:]\n",
    "\n",
    "for line in lines:\n",
    "    p = line.split()\n",
    "    \n",
    "    if not(int(p[0]) in node_ind.keys()): \n",
    "        node_ind[int(p[0])]=ind\n",
    "        ind+=1\n",
    "    if not(int(p[1]) in node_ind.keys()): \n",
    "        node_ind[int(p[1])]=ind\n",
    "        ind+=1\n",
    "        \n",
    "    ind1=node_ind[int(p[0])]\n",
    "    ind2=node_ind[int(p[1])]\n",
    "    g2.addEdge(ind1,ind2)\n",
    "    \n",
    "f.close() \n",
    "print (\"-----------------------------------------------------------\")\n",
    "print (file_name+\": G=(V,E), V=\"+ str(nodes)+\", E= \" +str(g2.E))\n",
    "#-----------------------------------------FIND SCC's-----------------------------------------\n",
    "\n",
    "start=time()\n",
    "g2.findSCCs_korasaju() \n",
    "stop=time()\n",
    "print (\"\\n# SCC (korasaju): \"+str(g2.c))\n",
    "print('runtime ='+str(round((stop-start)*1000.0))+\" ms\")\n",
    "\n",
    "\n"
   ]
  }
 ],
 "metadata": {
  "interpreter": {
   "hash": "01a0864cc16dfe0d29deaf2cba20f5778ed02f8f7af40e3ba2dd8f1e8a058b79"
  },
  "kernelspec": {
   "display_name": "Python (myenv)",
   "language": "python",
   "name": "python3"
  },
  "language_info": {
   "codemirror_mode": {
    "name": "ipython",
    "version": 3
   },
   "file_extension": ".py",
   "mimetype": "text/x-python",
   "name": "python",
   "nbconvert_exporter": "python",
   "pygments_lexer": "ipython3",
   "version": "3.9.12"
  }
 },
 "nbformat": 4,
 "nbformat_minor": 2
}
